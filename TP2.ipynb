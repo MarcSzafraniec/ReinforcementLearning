{
 "cells": [
  {
   "cell_type": "code",
   "execution_count": 1,
   "metadata": {
    "collapsed": true
   },
   "outputs": [],
   "source": [
    "%matplotlib inline\n",
    "\n",
    "import matplotlib.pyplot as mpl\n",
    "import copy\n",
    "import random as rd"
   ]
  },
  {
   "cell_type": "code",
   "execution_count": 2,
   "metadata": {
    "collapsed": true
   },
   "outputs": [],
   "source": [
    "import numpy as np\n",
    "from numpy import exp, log\n",
    "from numpy.random import random, beta\n",
    "\n",
    "\n",
    "class ArmBernoulli():\n",
    "    \"\"\"Bernoulli arm\"\"\"\n",
    "    def __init__(self, p):\n",
    "        \"\"\"\n",
    "        p: Bernoulli parameter\n",
    "        \"\"\"\n",
    "        self.p = p\n",
    "        self.mean = p\n",
    "        self.var = p * (1 - p)\n",
    "        \n",
    "    def sample(self):\n",
    "        reward = random() < self.p\n",
    "        return reward\n",
    "\n",
    "\n",
    "class ArmBeta():\n",
    "    \"\"\"arm having a Beta distribution\"\"\"\n",
    "    def __init__(self, a, b):\n",
    "        \"\"\"\n",
    "        a: first beta parameter\n",
    "        b: second beta parameter\n",
    "        \"\"\"\n",
    "        self.a = a\n",
    "        self.b = b\n",
    "        self.mean = a / (a + b)\n",
    "        self.var = (a * b) / ((a + b) ** 2 * (a + b + 1))\n",
    "        \n",
    "    def sample(self):\n",
    "        reward = beta(self.a, self.b)\n",
    "        return reward\n",
    "\n",
    "\n",
    "class ArmExp():\n",
    "    \"\"\"arm with trucated exponential distribution\"\"\"\n",
    "    def __init__(self, lambd):\n",
    "        \"\"\"\n",
    "        lambd: parameter of the exponential distribution\n",
    "        \"\"\"\n",
    "        self.lambd = lambd\n",
    "        self.mean = (1 / lambd) * (1 - exp(-lambd))\n",
    "        self.var = 1 # compute it yourself!\n",
    "        \n",
    "    def sample(self):\n",
    "        reward = min(-1 / self.lambd * log(random()), 1)\n",
    "        return reward\n",
    "\n",
    "\n",
    "def simu(p):\n",
    "    \"\"\"\n",
    "    draw a sample of a finite-supported distribution that takes value\n",
    "    k with porbability p(k)\n",
    "    p: a vector of probabilities\n",
    "    \"\"\"\n",
    "    q = p.cumsum()\n",
    "    u = random()\n",
    "    i = 0\n",
    "    while u > q[i]:\n",
    "        i += 1\n",
    "        if i >= len(q):\n",
    "            raise ValueError(\"p does not sum to 1\")\n",
    "    return i\n",
    "\n",
    "\n",
    "class ArmFinite():\n",
    "    \"\"\"arm with finite support\"\"\"\n",
    "    def __init__(self, X, P):\n",
    "        \"\"\"\n",
    "        X: support of the distribution\n",
    "        P: associated probabilities\n",
    "        \"\"\"\n",
    "        self.X = np.array(X)\n",
    "        self.P = np.array(P)\n",
    "        self.mean = (self.X * self.P).sum()\n",
    "        self.var = (self.X ** 2 * self.P).sum() - self.mean ** 2\n",
    "        \n",
    "    def sample(self):\n",
    "        i = simu(self.P)\n",
    "        reward = self.X[i]\n",
    "        return reward"
   ]
  },
  {
   "cell_type": "code",
   "execution_count": 3,
   "metadata": {
    "collapsed": false
   },
   "outputs": [
    {
     "name": "stdout",
     "output_type": "stream",
     "text": [
      "[ 0.3   0.25  0.2   0.1 ]\n"
     ]
    }
   ],
   "source": [
    "# Build your own bandit problem \n",
    "\n",
    "# this is an example, please change the parameters or arms!\n",
    "Arm1=ArmBernoulli(0.3)\n",
    "Arm2=ArmBernoulli(0.25)\n",
    "Arm3=ArmBernoulli(0.2)\n",
    "Arm4=ArmBernoulli(0.1)\n",
    "\n",
    "MAB=[Arm1,Arm2,Arm3,Arm4]\n",
    "\n",
    "# bandit : set of arms\n",
    "\n",
    "NbArms=len(MAB)\n",
    "\n",
    "Means=np.zeros([NbArms])\n",
    "for i in range(NbArms):\n",
    "    Means[i]=MAB[i].mean\n",
    "\n",
    "# Display the means of your bandit (to find the best)\n",
    "print(Means)\n",
    "muMax=max(Means);\n"
   ]
  },
  {
   "cell_type": "code",
   "execution_count": 4,
   "metadata": {
    "collapsed": true
   },
   "outputs": [],
   "source": [
    "def UCB(T,MAB):\n",
    "    \n",
    "    NbArms=len(MAB)\n",
    "\n",
    "    rew = np.empty([0])\n",
    "    draws = np.empty([0])\n",
    "    \n",
    "    Means=np.zeros([NbArms])\n",
    "    for i in range(NbArms):\n",
    "        Means[i]=MAB[i].mean\n",
    "        draws = np.append(draws, i)\n",
    "        \n",
    "    N = np.ones([NbArms])    \n",
    "    S = [MAB[i].sample() for i in range(NbArms)]\n",
    "    rew = np.append(rew, S)\n",
    "    mu = copy.copy(S)\n",
    "    \n",
    "    for t in range(NbArms,T):\n",
    "        \n",
    "        A = np.argmax([mu[a]+np.sqrt(np.log(t)/(2*N[a])) for a in range(NbArms)])\n",
    "        \n",
    "        draws = np.append(draws, A)\n",
    "        rew = np.append(rew, MAB[A].sample())\n",
    "        N[A] += 1\n",
    "        S[A] += rew[-1]\n",
    "        mu[A] = S[A]/N[A]\n",
    "        \n",
    "    \n",
    "    return rew,draws,N,S,mu"
   ]
  },
  {
   "cell_type": "code",
   "execution_count": 5,
   "metadata": {
    "collapsed": false
   },
   "outputs": [],
   "source": [
    "# # Comparison of the regret on one run of the bandit algorithm\n",
    "\n",
    "# T=5000; # horizon\n",
    "\n",
    "# [rew1,draws1]=UCB(T,MAB);\n",
    "# reg1=muMax*np.array(range(1,T+1)) - cumsum(rew1);\n",
    "# [rew2,draws2]=TS(T,MAB);\n",
    "# reg2=muMax*np.array(range(1,T+1)) - cumsum(rew2);\n",
    "\n",
    "\n",
    "# plot(np.array(range(1,T+1)),reg1,np.array(range(1,T+1)),reg2)\n",
    "\n",
    "\n",
    "# #(Expected) regret curve for UCB and Thompson Sampling\n"
   ]
  },
  {
   "cell_type": "code",
   "execution_count": 6,
   "metadata": {
    "collapsed": false
   },
   "outputs": [
    {
     "data": {
      "text/plain": [
       "[<matplotlib.lines.Line2D at 0x289aa262ac8>]"
      ]
     },
     "execution_count": 6,
     "metadata": {},
     "output_type": "execute_result"
    },
    {
     "data": {
      "image/png": "[encoded data removed]",
      "text/plain": [
       "<matplotlib.figure.Figure at 0x289a9e9a5f8>"
      ]
     },
     "metadata": {},
     "output_type": "display_data"
    }
   ],
   "source": [
    "mpl.plot(UCB(10000,MAB)[1],'o')"
   ]
  },
  {
   "cell_type": "code",
   "execution_count": 7,
   "metadata": {
    "collapsed": false
   },
   "outputs": [],
   "source": [
    "def TS(T,MAB):\n",
    "    \n",
    "    NbArms=len(MAB)\n",
    "\n",
    "    rew = np.empty([0])\n",
    "    draws = np.empty([0])\n",
    "    \n",
    "    Means=np.zeros([NbArms])\n",
    "    for i in range(NbArms):\n",
    "        Means[i]=MAB[i].mean\n",
    "        draws = np.append(draws, i)\n",
    "        \n",
    "    N = np.ones([NbArms])    \n",
    "    S = [MAB[i].sample() for i in range(NbArms)]\n",
    "    rew = np.append(rew, S)\n",
    "    mu = copy.copy(S)\n",
    "    \n",
    "    for t in range(NbArms,T):\n",
    "        \n",
    "        A = np.argmax([np.random.beta(S[a]+1,N[a]-S[a]+1) for a in range(NbArms)])\n",
    "        \n",
    "        draws = np.append(draws, A)\n",
    "        rew = np.append(rew, MAB[A].sample())\n",
    "        N[A] += 1\n",
    "        S[A] += rew[-1]\n",
    "        mu[A] = S[A]/N[A]\n",
    "        \n",
    "    \n",
    "    return rew,draws,N,S,mu"
   ]
  },
  {
   "cell_type": "code",
   "execution_count": 8,
   "metadata": {
    "collapsed": false
   },
   "outputs": [
    {
     "data": {
      "text/plain": [
       "array([ 0.,  0.,  0.,  0.,  0.,  0.,  0.,  0.,  0.,  0.,  0.,  1.,  0.,\n",
       "        0.,  0.,  0.,  0.,  0.,  0.,  1.,  0.,  0.,  0.,  0.,  0.,  1.,\n",
       "        0.,  1.,  0.,  0.,  1.,  1.,  0.,  0.,  1.,  1.,  1.,  0.,  0.,\n",
       "        0.,  1.,  0.,  0.,  0.,  1.,  0.,  0.,  0.,  0.,  0.,  0.,  0.,\n",
       "        0.,  1.,  0.,  1.,  1.,  1.,  1.,  1.,  0.,  0.,  0.,  0.,  0.,\n",
       "        0.,  0.,  0.,  0.,  0.,  1.,  0.,  0.,  0.,  0.,  1.,  0.,  0.,\n",
       "        1.,  0.,  0.,  0.,  0.,  0.,  0.,  0.,  0.,  0.,  0.,  1.,  0.,\n",
       "        1.,  0.,  1.,  0.,  1.,  0.,  0.,  0.,  0.,  1.,  0.,  0.,  0.,\n",
       "        1.,  1.,  0.,  1.,  1.,  0.,  0.,  1.,  0.,  0.,  1.,  0.,  0.,\n",
       "        1.,  0.,  0.,  0.,  0.,  0.,  1.,  0.,  0.,  0.,  0.,  0.,  0.,\n",
       "        0.,  0.,  1.,  1.,  0.,  0.,  0.,  0.,  0.,  0.,  1.,  1.,  0.,\n",
       "        1.,  1.,  0.,  0.,  0.,  0.,  0.,  0.,  0.,  0.,  0.,  0.,  0.,\n",
       "        0.,  0.,  0.,  0.,  0.,  0.,  0.,  1.,  0.,  0.,  0.,  0.,  0.,\n",
       "        1.,  1.,  1.,  0.,  1.,  0.,  0.,  0.,  0.,  0.,  0.,  1.,  0.,\n",
       "        0.,  0.,  0.,  1.,  0.,  1.,  0.,  1.,  1.,  1.,  0.,  0.,  1.,\n",
       "        0.,  1.,  0.,  0.,  0.,  0.,  1.,  0.,  0.,  0.,  1.,  0.,  0.,\n",
       "        0.,  0.,  0.,  0.,  1.,  0.,  0.,  0.,  0.,  0.,  0.,  0.,  0.,\n",
       "        0.,  0.,  0.,  1.,  1.,  0.,  0.,  0.,  0.,  0.,  0.,  0.,  0.,\n",
       "        0.,  0.,  0.,  0.,  0.,  0.,  0.,  0.,  0.,  0.,  0.,  0.,  0.,\n",
       "        0.,  0.,  0.,  1.,  0.,  1.,  1.,  0.,  1.,  0.,  0.,  0.,  1.,\n",
       "        1.,  0.,  1.,  1.,  0.,  0.,  0.,  0.,  0.,  0.,  1.,  0.,  1.,\n",
       "        0.,  0.,  0.,  0.,  0.,  0.,  0.,  0.,  0.,  1.,  1.,  0.,  0.,\n",
       "        1.,  0.,  0.,  0.,  0.,  0.,  0.,  0.,  0.,  0.,  0.,  0.,  0.,\n",
       "        0.,  0.,  0.,  0.,  1.,  0.,  1.,  0.,  0.,  0.,  0.,  0.,  0.,\n",
       "        0.,  1.,  0.,  0.,  0.,  0.,  0.,  0.,  1.,  0.,  1.,  0.,  0.,\n",
       "        0.,  0.,  0.,  0.,  0.,  0.,  0.,  0.,  0.,  0.,  1.,  0.,  0.,\n",
       "        0.,  0.,  0.,  0.,  1.,  1.,  1.,  0.,  1.,  0.,  0.,  0.,  0.,\n",
       "        0.,  0.,  0.,  0.,  0.,  0.,  0.,  0.,  0.,  0.,  0.,  0.,  0.,\n",
       "        0.,  0.,  0.,  0.,  1.,  0.,  0.,  1.,  0.,  0.,  0.,  0.,  0.,\n",
       "        0.,  0.,  1.,  0.,  0.,  0.,  0.,  0.,  1.,  0.,  1.,  0.,  1.,\n",
       "        0.,  1.,  0.,  0.,  0.,  0.,  0.,  0.,  0.,  0.,  0.,  0.,  0.,\n",
       "        0.,  0.,  0.,  0.,  1.,  0.,  1.,  0.,  0.,  0.,  0.,  0.,  0.,\n",
       "        1.,  1.,  0.,  0.,  0.,  0.,  0.,  1.,  1.,  0.,  0.,  0.,  0.,\n",
       "        0.,  0.,  0.,  0.,  1.,  0.,  1.,  0.,  0.,  0.,  0.,  1.,  0.,\n",
       "        0.,  1.,  1.,  1.,  0.,  0.,  0.,  1.,  0.,  0.,  0.,  0.,  0.,\n",
       "        0.,  0.,  0.,  0.,  0.,  0.,  0.,  0.,  0.,  0.,  1.,  0.,  0.,\n",
       "        0.,  0.,  0.,  0.,  0.,  0.,  0.,  1.,  0.,  1.,  0.,  0.,  0.,\n",
       "        1.,  0.,  0.,  0.,  0.,  0.,  0.,  1.,  0.,  0.,  0.,  1.,  0.,\n",
       "        0.,  1.,  0.,  0.,  1.,  0.,  0.,  1.,  0.,  0.,  1.,  0.,  0.,\n",
       "        0.,  0.,  0.,  0.,  1.,  0.,  1.,  0.,  0.,  0.,  1.,  0.,  0.,\n",
       "        0.,  0.,  0.,  0.,  0.,  0.,  0.,  0.,  1.,  0.,  1.,  0.,  1.,\n",
       "        0.,  0.,  0.,  0.,  0.,  0.,  0.,  0.,  0.,  0.,  0.,  0.,  1.,\n",
       "        0.,  0.,  0.,  1.,  1.,  1.,  0.,  1.,  0.,  0.,  0.,  0.,  0.,\n",
       "        0.,  1.,  1.,  0.,  0.,  0.,  0.,  0.,  1.,  0.,  1.,  0.,  1.,\n",
       "        0.,  0.,  0.,  1.,  0.,  0.,  0.,  1.,  0.,  0.,  0.,  1.,  1.,\n",
       "        0.,  0.,  1.,  1.,  0.,  0.,  0.,  0.,  1.,  0.,  0.,  0.,  1.,\n",
       "        1.,  0.,  1.,  0.,  1.,  1.,  1.,  0.,  0.,  0.,  0.,  1.,  0.,\n",
       "        0.,  0.,  0.,  1.,  0.,  0.,  0.,  0.,  0.,  0.,  0.,  0.,  0.,\n",
       "        0.,  0.,  1.,  0.,  0.,  1.,  0.,  0.,  0.,  1.,  0.,  0.,  0.,\n",
       "        0.,  0.,  0.,  0.,  0.,  0.,  1.,  0.,  0.,  0.,  0.,  1.,  0.,\n",
       "        0.,  1.,  0.,  0.,  1.,  0.,  0.,  0.,  1.,  0.,  0.,  0.,  0.,\n",
       "        0.,  0.,  1.,  0.,  0.,  0.,  0.,  0.,  0.,  0.,  0.,  0.,  0.,\n",
       "        1.,  0.,  1.,  0.,  1.,  1.,  0.,  0.,  0.,  0.,  0.,  0.,  0.,\n",
       "        0.,  1.,  0.,  0.,  0.,  1.,  1.,  1.,  0.,  0.,  0.,  1.,  0.,\n",
       "        0.,  1.,  1.,  0.,  0.,  1.,  0.,  0.,  0.,  1.,  0.,  0.,  0.,\n",
       "        0.,  0.,  1.,  0.,  0.,  0.,  0.,  0.,  0.,  1.,  0.,  0.,  0.,\n",
       "        0.,  0.,  0.,  0.,  1.,  0.,  0.,  0.,  0.,  0.,  1.,  0.,  0.,\n",
       "        0.,  1.,  0.,  0.,  0.,  0.,  0.,  0.,  0.,  0.,  0.,  0.,  0.,\n",
       "        0.,  0.,  1.,  0.,  0.,  0.,  0.,  0.,  0.,  0.,  1.,  0.,  0.,\n",
       "        0.,  0.,  0.,  0.,  1.,  1.,  0.,  0.,  0.,  0.,  0.,  0.,  0.,\n",
       "        0.,  1.,  0.,  0.,  0.,  0.,  0.,  0.,  0.,  0.,  0.,  0.,  0.,\n",
       "        1.,  0.,  0.,  0.,  1.,  0.,  1.,  0.,  0.,  1.,  0.,  0.,  0.,\n",
       "        0.,  1.,  0.,  0.,  0.,  0.,  0.,  0.,  0.,  0.,  1.,  1.,  0.,\n",
       "        0.,  0.,  1.,  1.,  0.,  1.,  0.,  0.,  1.,  0.,  0.,  0.,  0.,\n",
       "        0.,  0.,  0.,  0.,  1.,  0.,  1.,  0.,  0.,  0.,  1.,  0.,  0.,\n",
       "        1.,  0.,  0.,  0.,  0.,  0.,  1.,  0.,  1.,  1.,  1.,  1.,  0.,\n",
       "        0.,  1.,  0.,  0.,  1.,  0.,  0.,  1.,  0.,  0.,  0.,  0.,  0.,\n",
       "        0.,  0.,  0.,  0.,  0.,  0.,  0.,  0.,  0.,  0.,  0.,  0.,  1.,\n",
       "        1.,  0.,  0.,  0.,  0.,  0.,  0.,  0.,  0.,  0.,  0.,  0.,  0.,\n",
       "        0.,  0.,  0.,  0.,  0.,  0.,  0.,  0.,  0.,  0.,  0.,  0.,  1.,\n",
       "        0.,  0.,  1.,  1.,  0.,  0.,  0.,  0.,  0.,  0.,  0.,  1.,  0.,\n",
       "        1.,  1.,  1.,  1.,  1.,  1.,  0.,  0.,  0.,  0.,  1.,  0.,  0.,\n",
       "        0.,  0.,  0.,  1.,  0.,  0.,  0.,  0.,  0.,  0.,  1.,  1.,  0.,\n",
       "        0.,  0.,  0.,  1.,  0.,  1.,  0.,  0.,  0.,  1.,  0.,  0.,  0.,\n",
       "        0.,  0.,  0.,  0.,  0.,  0.,  0.,  0.,  0.,  1.,  1.,  1.,  0.,\n",
       "        0.,  0.,  1.,  0.,  1.,  0.,  0.,  1.,  0.,  0.,  1.,  1.,  1.,\n",
       "        0.,  0.,  1.,  0.,  0.,  0.,  0.,  1.,  1.,  0.,  0.,  0.])"
      ]
     },
     "execution_count": 8,
     "metadata": {},
     "output_type": "execute_result"
    }
   ],
   "source": [
    "TS(1000,MAB)[0]"
   ]
  },
  {
   "cell_type": "code",
   "execution_count": 9,
   "metadata": {
    "collapsed": true
   },
   "outputs": [],
   "source": [
    "def ran(T,MAB):\n",
    "    \n",
    "    NbArms=len(MAB)\n",
    "\n",
    "    rew = np.empty([0])\n",
    "    draws = np.empty([0])\n",
    "    \n",
    "    Means=np.zeros([NbArms])\n",
    "    for i in range(NbArms):\n",
    "        Means[i]=MAB[i].mean\n",
    "        draws = np.append(draws, i)\n",
    "        \n",
    "    N = np.ones([NbArms])    \n",
    "    S = [MAB[i].sample() for i in range(NbArms)]\n",
    "    rew = np.append(rew, S)\n",
    "    mu = copy.copy(S)\n",
    "    \n",
    "    for t in range(NbArms,T):\n",
    "        \n",
    "        A = np.argmax(mu)\n",
    "        \n",
    "        draws = np.append(draws, A)\n",
    "        rew = np.append(rew, MAB[A].sample())\n",
    "        N[A] += 1\n",
    "        S[A] += rew[-1]\n",
    "        mu[A] = S[A]/N[A]\n",
    "        \n",
    "    \n",
    "    return rew,draws,N,S,mu"
   ]
  },
  {
   "cell_type": "code",
   "execution_count": 10,
   "metadata": {
    "collapsed": true
   },
   "outputs": [],
   "source": [
    "def regret(Tmax, MAB):\n",
    "    \n",
    "    regTS = np.empty([0])\n",
    "    regUCB = np.empty([0])\n",
    "    regRan = np.empty([0])\n",
    "    \n",
    "    pet = max([MAB[i].mean for i in range(len(MAB))])\n",
    "    drawsTS = TS(Tmax,MAB)[1]\n",
    "    drawsUCB = UCB(Tmax,MAB)[1]\n",
    "    drawsRan = ran(Tmax,MAB)[1]\n",
    "    \n",
    "    for T in range(Tmax):\n",
    "        regTS = np.append(regTS,T*pet - np.sum([MAB[int(drawsTS[t])].mean for t in range(T)]))\n",
    "        regUCB = np.append(regUCB,T*pet - np.sum([MAB[int(drawsUCB[t])].mean for t in range(T)]))\n",
    "        regRan = np.append(regRan,T*pet - np.sum([MAB[int(drawsRan[t])].mean for t in range(T)]))\n",
    "    \n",
    "    mpl.figure(figsize=(20,10))\n",
    "    mpl.plot(regTS, label=\"TS\")\n",
    "    mpl.plot(regUCB, label=\"UCB\")\n",
    "#     mpl.plot(regRan, label=\"Naive\")\n",
    "    mpl.plot([C(MAB)*np.log(t) for t in range(1,Tmax)], label=\"Oracle\")\n",
    "    mpl.legend(bbox_to_anchor=(1.05, 1), loc=2, borderaxespad=0.)\n",
    "    mpl.show()"
   ]
  },
  {
   "cell_type": "code",
   "execution_count": 11,
   "metadata": {
    "collapsed": false
   },
   "outputs": [
    {
     "name": "stdout",
     "output_type": "stream",
     "text": [
      "[ 0.9   0.58  0.4   0.1 ]\n"
     ]
    }
   ],
   "source": [
    "Arm1=ArmBernoulli(0.9)\n",
    "Arm2=ArmBernoulli(0.58)\n",
    "Arm3=ArmBernoulli(0.4)\n",
    "Arm4=ArmBernoulli(0.1)\n",
    "\n",
    "MAB=[Arm1,Arm2,Arm3,Arm4]\n",
    "\n",
    "# bandit : set of arms\n",
    "\n",
    "NbArms=len(MAB)\n",
    "\n",
    "Means=np.zeros([NbArms])\n",
    "for i in range(NbArms):\n",
    "    Means[i]=MAB[i].mean\n",
    "\n",
    "# Display the means of your bandit (to find the best)\n",
    "print(Means)\n",
    "muMax=max(Means);"
   ]
  },
  {
   "cell_type": "code",
   "execution_count": 12,
   "metadata": {
    "collapsed": true
   },
   "outputs": [],
   "source": [
    "def C(MAB):\n",
    "    \n",
    "    pet = max([MAB[i].mean for i in range(len(MAB))])\n",
    "    Aet = np.argmax([MAB[i].mean for i in range(len(MAB))])\n",
    "    \n",
    "    kl = lambda x,y : x*np.log(x/y) + (1-x)*np.log((1-x)/(1-y))\n",
    "#     print([kl(MAB[i].mean,pet) for i in np.delete(range(len(MAB)), Aet)])\n",
    "    return np.sum([(pet-MAB[i].mean)/kl(MAB[i].mean,pet) for i in np.delete(range(len(MAB)), Aet)])"
   ]
  },
  {
   "cell_type": "code",
   "execution_count": 13,
   "metadata": {
    "collapsed": false
   },
   "outputs": [
    {
     "data": {
      "image/png": "[encoded data removed]",
      "text/plain": [
       "<matplotlib.figure.Figure at 0x289a9e9a0f0>"
      ]
     },
     "metadata": {},
     "output_type": "display_data"
    }
   ],
   "source": [
    "regret(10000,MAB)"
   ]
  },
  {
   "cell_type": "code",
   "execution_count": 14,
   "metadata": {
    "collapsed": false
   },
   "outputs": [
    {
     "data": {
      "text/plain": [
       "2.0409762316864746"
      ]
     },
     "execution_count": 14,
     "metadata": {},
     "output_type": "execute_result"
    }
   ],
   "source": [
    "C(MAB)"
   ]
  },
  {
   "cell_type": "code",
   "execution_count": 25,
   "metadata": {
    "collapsed": true
   },
   "outputs": [],
   "source": [
    "def TSgen(T,MAB):\n",
    "    \n",
    "    NbArms=len(MAB)\n",
    "\n",
    "    rew = np.empty([0])\n",
    "    draws = np.empty([0])\n",
    "    \n",
    "    Means=np.zeros([NbArms])\n",
    "    for i in range(NbArms):\n",
    "        Means[i]=MAB[i].mean\n",
    "        draws = np.append(draws, i)\n",
    "        \n",
    "    N = np.ones([NbArms])    \n",
    "    S = [MAB[i].sample() for i in range(NbArms)]\n",
    "    rew = np.append(rew, S)\n",
    "    mu = copy.copy(S)\n",
    "    \n",
    "    for t in range(NbArms,T):\n",
    "        \n",
    "        A = np.argmax([np.random.beta(S[a]+1,N[a]-S[a]+1) for a in range(NbArms)])\n",
    "        \n",
    "        draws = np.append(draws, A)\n",
    "        rew = np.append(rew, MAB[A].sample())\n",
    "        N[A] += 1\n",
    "        if np.random.random() < rew[-1]:\n",
    "            S[A] += 1\n",
    "        mu[A] = S[A]/N[A]\n",
    "        \n",
    "    \n",
    "    return rew,draws,N,S,mu"
   ]
  },
  {
   "cell_type": "code",
   "execution_count": 26,
   "metadata": {
    "collapsed": false
   },
   "outputs": [
    {
     "name": "stdout",
     "output_type": "stream",
     "text": [
      "[ 0.18367347  0.10394265  0.16666667  0.01234568]\n"
     ]
    }
   ],
   "source": [
    "Arm1=ArmBeta(0.9,4)\n",
    "Arm2=ArmBeta(0.58,5)\n",
    "Arm3=ArmBeta(0.4,2)\n",
    "Arm4=ArmBeta(0.1,8)\n",
    "\n",
    "MAB=[Arm1,Arm2,Arm3,Arm4]\n",
    "\n",
    "# bandit : set of arms\n",
    "\n",
    "NbArms=len(MAB)\n",
    "\n",
    "Means=np.zeros([NbArms])\n",
    "for i in range(NbArms):\n",
    "    Means[i]=MAB[i].mean\n",
    "\n",
    "# Display the means of your bandit (to find the best)\n",
    "print(Means)\n",
    "muMax=max(Means);"
   ]
  },
  {
   "cell_type": "code",
   "execution_count": 33,
   "metadata": {
    "collapsed": true
   },
   "outputs": [],
   "source": [
    "def regretGen(Tmax, MAB):\n",
    "    \n",
    "    regTS = np.empty([0])\n",
    "    regUCB = np.empty([0])\n",
    "    regRan = np.empty([0])\n",
    "    \n",
    "    pet = max([MAB[i].mean for i in range(len(MAB))])\n",
    "    drawsTS = TSgen(Tmax,MAB)[1]\n",
    "    drawsUCB = UCB(Tmax,MAB)[1]\n",
    "    drawsRan = ran(Tmax,MAB)[1]\n",
    "    \n",
    "    for T in range(Tmax):\n",
    "        regTS = np.append(regTS,T*pet - np.sum([MAB[int(drawsTS[t])].mean for t in range(T)]))\n",
    "        regUCB = np.append(regUCB,T*pet - np.sum([MAB[int(drawsUCB[t])].mean for t in range(T)]))\n",
    "        regRan = np.append(regRan,T*pet - np.sum([MAB[int(drawsRan[t])].mean for t in range(T)]))\n",
    "    \n",
    "    mpl.figure(figsize=(20,10))\n",
    "    mpl.plot(regTS, label=\"TS\")\n",
    "    mpl.plot(regUCB, label=\"UCB\")\n",
    "#     mpl.plot(regRan, label=\"Naive\")\n",
    "    mpl.plot([C(MAB)*np.log(t) for t in range(1,Tmax)], label=\"Oracle\")\n",
    "    mpl.legend(bbox_to_anchor=(1.05, 1), loc=2, borderaxespad=0.)\n",
    "    mpl.show()"
   ]
  },
  {
   "cell_type": "code",
   "execution_count": 36,
   "metadata": {
    "collapsed": false
   },
   "outputs": [
    {
     "data": {
      "image/png": "[encoded data removed]",
      "text/plain": [
       "<matplotlib.figure.Figure at 0x289aa84ad30>"
      ]
     },
     "metadata": {},
     "output_type": "display_data"
    }
   ],
   "source": [
    "regretGen(10000,MAB)"
   ]
  },
  {
   "cell_type": "code",
   "execution_count": null,
   "metadata": {
    "collapsed": true
   },
   "outputs": [],
   "source": []
  },
  {
   "cell_type": "code",
   "execution_count": null,
   "metadata": {
    "collapsed": true
   },
   "outputs": [],
   "source": []
  }
 ],
 "metadata": {
  "anaconda-cloud": {},
  "kernelspec": {
   "display_name": "Python [Root]",
   "language": "python",
   "name": "Python [Root]"
  },
  "language_info": {
   "codemirror_mode": {
    "name": "ipython",
    "version": 3
   },
   "file_extension": ".py",
   "mimetype": "text/x-python",
   "name": "python",
   "nbconvert_exporter": "python",
   "pygments_lexer": "ipython3",
   "version": "3.5.2"
  }
 },
 "nbformat": 4,
 "nbformat_minor": 0
}
