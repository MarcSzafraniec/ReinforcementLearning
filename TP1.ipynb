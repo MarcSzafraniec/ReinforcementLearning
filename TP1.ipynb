{
 "cells": [
  {
   "cell_type": "code",
   "execution_count": 4,
   "metadata": {
    "collapsed": false
   },
   "outputs": [],
   "source": [
    "%matplotlib inline\n",
    "\n",
    "import pandas as pd\n",
    "import numpy as np\n",
    "import random as rd\n",
    "import matplotlib.pyplot as mpl"
   ]
  },
  {
   "cell_type": "code",
   "execution_count": 5,
   "metadata": {
    "collapsed": false
   },
   "outputs": [],
   "source": [
    "l = 1\n",
    "v = 1\n",
    "d = .1\n",
    "m = .1\n",
    "hmax = 10\n",
    "rate = 0.05\n",
    "gamma = 1/(1+rate)"
   ]
  },
  {
   "cell_type": "code",
   "execution_count": 6,
   "metadata": {
    "collapsed": true
   },
   "outputs": [],
   "source": [
    "def tree_sim(h,c): # c=1 for cut, c = 0 for non cut\n",
    "    \n",
    "    if c:\n",
    "        return 1,v*h-l\n",
    "    \n",
    "    else:\n",
    "        disease = rd.random()<d\n",
    "        if disease:\n",
    "            return 1,-l\n",
    "        gp = rd.random()\n",
    "        g = 0\n",
    "        if gp > .5:\n",
    "            g = min(hmax-h,0)\n",
    "        elif gp > .25 and gp <= .5:\n",
    "            g = min(hmax-h,1)\n",
    "        elif gp > .10 and gp <= .25:\n",
    "            g = min(hmax-h,2)\n",
    "        elif gp > .05 and gp <= .10:\n",
    "            g = min(hmax-h,3)\n",
    "        elif gp >= 0 and gp <= .05:\n",
    "            g = min(hmax-h,4)\n",
    "            \n",
    "        return h+g, -m"
   ]
  },
  {
   "cell_type": "code",
   "execution_count": 7,
   "metadata": {
    "collapsed": false
   },
   "outputs": [],
   "source": [
    "def tree_MDP(): \n",
    "    \n",
    "    vec_proba = np.asarray([.5,.25,.15,.05,.05])*(1-d)\n",
    "    dynamicsc1 = np.reshape([[np.append(1,[0 for i in range(hmax-1)])] for j in range(hmax)],(hmax,hmax))\n",
    "    dynamicsc0 = np.reshape([np.append(np.append([0 for i in range(j)],np.asarray([.5,.25,.15,.05,.05])*(1-d)),[0 for i in range(hmax-j-5)]) for j in range(hmax+1-len(vec_proba))],(hmax+1-len(vec_proba),hmax))\n",
    "    dynamicsc0 = np.append(dynamicsc0, np.append([0 for i in range(hmax+1-len(vec_proba))],np.asarray([.5,.25,.15,.1])*(1-d)))\n",
    "    dynamicsc0 = np.append(dynamicsc0, np.append([0 for i in range(hmax+2-len(vec_proba))],np.asarray([.5,.25,.25])*(1-d)))\n",
    "    dynamicsc0 = np.append(dynamicsc0, np.append([0 for i in range(hmax+3-len(vec_proba))],np.asarray([.5,.5])*(1-d)))\n",
    "    dynamicsc0 = np.append(dynamicsc0, np.append([0 for i in range(hmax+4-len(vec_proba))],(1-d)))\n",
    "    dynamicsc0 = np.reshape(dynamicsc0,(hmax,hmax))\n",
    "    \n",
    "    dynamicsc0 += [np.append(d,[0 for i in range(hmax-1)]) for j in range(hmax)]\n",
    "    \n",
    "    dynamics = np.concatenate(([dynamicsc0],[dynamicsc1]),0)\n",
    "    \n",
    "    \n",
    "    def r(h,c):\n",
    "        \n",
    "        if c:\n",
    "            return v*h-l\n",
    "        else:\n",
    "            return -m*(1-d)-l*d\n",
    "        \n",
    "    return dynamics,r"
   ]
  },
  {
   "cell_type": "code",
   "execution_count": 8,
   "metadata": {
    "collapsed": true
   },
   "outputs": [],
   "source": [
    "policy = np.append([0 for i in range(hmax-1)],1)"
   ]
  },
  {
   "cell_type": "code",
   "execution_count": 9,
   "metadata": {
    "collapsed": true
   },
   "outputs": [],
   "source": [
    "def evolution(hinit, pol, steps):\n",
    "    \n",
    "    h = hinit\n",
    "    rtot = [0]\n",
    "    \n",
    "    for i in range(steps):\n",
    "        \n",
    "        r = tree_MDP()[1](h,pol[h-1])\n",
    "        rtot = np.append(rtot,rtot[-1]+r)\n",
    "#         print(h,'\\t',r,'\\t',rtot[-1])\n",
    "        \n",
    "    return rtot"
   ]
  },
  {
   "cell_type": "code",
   "execution_count": 10,
   "metadata": {
    "collapsed": false
   },
   "outputs": [],
   "source": [
    "# for i in range(100):\n",
    "#     print(tree_sim(10,0))"
   ]
  },
  {
   "cell_type": "code",
   "execution_count": 11,
   "metadata": {
    "collapsed": false
   },
   "outputs": [
    {
     "data": {
      "text/plain": [
       "-9.4999999999999982"
      ]
     },
     "execution_count": 11,
     "metadata": {},
     "output_type": "execute_result"
    }
   ],
   "source": [
    "np.mean([evolution(1,policy,100) for i in range(100)])"
   ]
  },
  {
   "cell_type": "code",
   "execution_count": 12,
   "metadata": {
    "collapsed": false
   },
   "outputs": [
    {
     "data": {
      "text/plain": [
       "[<matplotlib.lines.Line2D at 0x2408032c160>]"
      ]
     },
     "execution_count": 12,
     "metadata": {},
     "output_type": "execute_result"
    },
    {
     "data": {
      "image/png": "[encoded data removed]",
      "text/plain": [
       "<matplotlib.figure.Figure at 0x2408001a4a8>"
      ]
     },
     "metadata": {},
     "output_type": "display_data"
    }
   ],
   "source": [
    "mpl.plot([int(10/rd.randint(1,10)-1) for i in range(100)],'o')"
   ]
  },
  {
   "cell_type": "code",
   "execution_count": 13,
   "metadata": {
    "collapsed": false
   },
   "outputs": [],
   "source": [
    "dynamics,r = tree_MDP()"
   ]
  },
  {
   "cell_type": "code",
   "execution_count": null,
   "metadata": {
    "collapsed": false
   },
   "outputs": [],
   "source": []
  },
  {
   "cell_type": "code",
   "execution_count": 14,
   "metadata": {
    "collapsed": false
   },
   "outputs": [],
   "source": [
    "def MCEvaluation(n,Tmax,h0):\n",
    "    \n",
    "    Vftot = []\n",
    "    \n",
    "    for i in range(n):\n",
    "        \n",
    "        T = 0\n",
    "        h = h0\n",
    "\n",
    "        rtot = []\n",
    "        Rtot = []\n",
    "\n",
    "        for T in range(Tmax):\n",
    "\n",
    "            action = policy[h-1]\n",
    "\n",
    "            h,r = tree_sim(h,action)\n",
    "\n",
    "            rtot = np.append(rtot,r)\n",
    "\n",
    "            Rtot = np.append(Rtot,np.sum([gamma**t*rtot[t] for t in range(T)]))\n",
    "            \n",
    "        Vf = np.mean(Rtot)\n",
    "        \n",
    "        Vftot = np.append(Vftot,Vf)\n",
    "    \n",
    "    return np.mean(Vftot)\n",
    "    "
   ]
  },
  {
   "cell_type": "code",
   "execution_count": 15,
   "metadata": {
    "collapsed": false
   },
   "outputs": [
    {
     "name": "stdout",
     "output_type": "stream",
     "text": [
      "[1.4780276539047428, 2.8616592753462342, 2.9268710961056397, 2.6027493197620371, 3.8298436815902526, 5.1872719113533332, 8.3869063671082582, 5.3856033155852172, 7.9193564574584441, 12.21967235413603]\n"
     ]
    }
   ],
   "source": [
    "Vmc = [MCEvaluation(10,100,h) for h in range(1,hmax+1)]\n",
    "print(Vmc)"
   ]
  },
  {
   "cell_type": "code",
   "execution_count": 16,
   "metadata": {
    "collapsed": true
   },
   "outputs": [],
   "source": [
    "def Q(x,a,v):\n",
    "    \n",
    "    dynamics,r = tree_MDP()\n",
    "    return r(x,a) + gamma*np.sum([dynamics[a][x-1][y]*v[y] for y in range(hmax)])"
   ]
  },
  {
   "cell_type": "code",
   "execution_count": 17,
   "metadata": {
    "collapsed": false
   },
   "outputs": [],
   "source": [
    "def BellmanOperator(w, policy):\n",
    "    \n",
    "    dynamics,r = tree_MDP()\n",
    "    \n",
    "    return [Q(x,policy[x-1],w) for x in range(1,hmax+1)]\n",
    "    "
   ]
  },
  {
   "cell_type": "code",
   "execution_count": 18,
   "metadata": {
    "collapsed": false
   },
   "outputs": [],
   "source": [
    "def BellmanVf(n, policy):\n",
    "    \n",
    "    w = [0 for i in range(hmax)]\n",
    "    for i in range(n):     \n",
    "        w = BellmanOperator(w, policy)\n",
    "        \n",
    "    return w"
   ]
  },
  {
   "cell_type": "code",
   "execution_count": 19,
   "metadata": {
    "collapsed": false
   },
   "outputs": [
    {
     "data": {
      "text/plain": [
       "[3.7455005370172705,\n",
       " 4.1749922732561595,\n",
       " 4.6694364136114839,\n",
       " 5.2506681022258119,\n",
       " 5.916067257517506,\n",
       " 6.7613088177914173,\n",
       " 7.6062998866417564,\n",
       " 8.6483442087022517,\n",
       " 9.717107615943787,\n",
       " 12.567143368587876]"
      ]
     },
     "execution_count": 19,
     "metadata": {},
     "output_type": "execute_result"
    }
   ],
   "source": [
    "BellmanVf(1000, policy)"
   ]
  },
  {
   "cell_type": "code",
   "execution_count": 20,
   "metadata": {
    "collapsed": false
   },
   "outputs": [],
   "source": [
    "# diff = [MCEvaluation(i,100,1)-BellmanVf(i)[0] for i in range(1000)]\n",
    "# mpl.figure(figsize=(20,10))\n",
    "# mpl.plot(diff, 'g',linewidth = 2)"
   ]
  },
  {
   "cell_type": "code",
   "execution_count": 21,
   "metadata": {
    "collapsed": false
   },
   "outputs": [],
   "source": [
    "def valueIteration(n):\n",
    "    \n",
    "    dynamics,r = tree_MDP()\n",
    "    \n",
    "    v = [0 for i in range(hmax)]\n",
    "    for i in range(n):     \n",
    "        v = [max([Q(x,a,v) for a in range(2)]) for x in range(1,hmax+1)]\n",
    "    \n",
    "    pol = [np.argmax([Q(x,a,v) for a in range(2)]) for x in range(1,hmax+1)]\n",
    "    \n",
    "    v = [Q(x,pol[x-1],v) for x in range(1,hmax+1)]\n",
    "    \n",
    "    return v,pol\n",
    "    "
   ]
  },
  {
   "cell_type": "code",
   "execution_count": 22,
   "metadata": {
    "collapsed": false
   },
   "outputs": [
    {
     "data": {
      "text/plain": [
       "([8.9507142857142643,\n",
       "  9.6526530612244681,\n",
       "  10.524489795918347,\n",
       "  11.524489795918347,\n",
       "  12.524489795918347,\n",
       "  13.524489795918347,\n",
       "  14.524489795918347,\n",
       "  15.524489795918347,\n",
       "  16.524489795918349,\n",
       "  17.524489795918349],\n",
       " [0, 0, 1, 1, 1, 1, 1, 1, 1, 1])"
      ]
     },
     "execution_count": 22,
     "metadata": {},
     "output_type": "execute_result"
    }
   ],
   "source": [
    "valueIteration(1000)"
   ]
  },
  {
   "cell_type": "code",
   "execution_count": 23,
   "metadata": {
    "collapsed": true
   },
   "outputs": [],
   "source": [
    "def policyIteration(n):\n",
    "    \n",
    "    dynamics,r = tree_MDP()\n",
    "    \n",
    "    pol = [1 for x in range(hmax)]\n",
    "    v = [1 for x in range(hmax)]\n",
    "        \n",
    "    for i in range(n):\n",
    "        \n",
    "        v = [Q(x,pol[x-1],v) for x in range(1,hmax+1)]\n",
    "        pol = [np.argmax([Q(x,a,v) for a in range(2)]) for x in range(1,hmax+1)]\n",
    "        \n",
    "    return v,pol"
   ]
  },
  {
   "cell_type": "code",
   "execution_count": 24,
   "metadata": {
    "collapsed": false
   },
   "outputs": [
    {
     "data": {
      "text/plain": [
       "([8.9507142857142643,\n",
       "  9.6526530612244681,\n",
       "  10.524489795918347,\n",
       "  11.524489795918347,\n",
       "  12.524489795918347,\n",
       "  13.524489795918347,\n",
       "  14.524489795918347,\n",
       "  15.524489795918347,\n",
       "  16.524489795918349,\n",
       "  17.524489795918349],\n",
       " [0, 0, 1, 1, 1, 1, 1, 1, 1, 1])"
      ]
     },
     "execution_count": 24,
     "metadata": {},
     "output_type": "execute_result"
    }
   ],
   "source": [
    "policyIteration(1000)"
   ]
  },
  {
   "cell_type": "code",
   "execution_count": 25,
   "metadata": {
    "collapsed": true
   },
   "outputs": [],
   "source": [
    "Vet = valueIteration(500)[0]"
   ]
  },
  {
   "cell_type": "code",
   "execution_count": 26,
   "metadata": {
    "collapsed": false
   },
   "outputs": [
    {
     "data": {
      "image/png": "[encoded data removed]",
      "text/plain": [
       "<matplotlib.figure.Figure at 0x2408002da20>"
      ]
     },
     "metadata": {},
     "output_type": "display_data"
    }
   ],
   "source": [
    "mpl.figure(figsize=(20,10))\n",
    "mpl.title(\"Value Iteration (blue) and Policy Iteration (green)\")\n",
    "mpl.plot([max(abs(np.array(Vet)-np.array(valueIteration(k)[0]))) for k in range(150)], 'b', linewidth = 2)\n",
    "mpl.plot([max(abs(np.array(Vet)-np.array(policyIteration(k)[0]))) for k in range(150)], 'g', linewidth = 2)\n",
    "mpl.show()"
   ]
  },
  {
   "cell_type": "code",
   "execution_count": 146,
   "metadata": {
    "collapsed": false
   },
   "outputs": [],
   "source": [
    "def QLearning(n, Tmax, h0, eps):\n",
    "    \n",
    "    optimal_policy = np.empty((hmax,1))\n",
    "    \n",
    "    C = 1\n",
    "    beta = 4/5\n",
    "    \n",
    "    alpha = lambda n: min(1,C*n**(-beta))\n",
    "    \n",
    "    N = np.zeros([hmax,2])\n",
    "    Qt = np.zeros([hmax,2])\n",
    "    \n",
    "    rews = np.empty([0])\n",
    "        \n",
    "    for i in range(n):\n",
    "        \n",
    "        T = 0\n",
    "        h = h0\n",
    "\n",
    "        rew = np.empty([0])\n",
    "        \n",
    "        for T in range(Tmax):\n",
    "            \n",
    "            if rd.random() < 1-eps:\n",
    "                amax = np.argmax(Qt[h-1])\n",
    "            else:\n",
    "                amax = rd.random() > .5\n",
    "            \n",
    "            h_1,r = tree_sim(h,amax)\n",
    "            \n",
    "            N[h-1,amax] += 1\n",
    "            \n",
    "            Qt[h-1,amax] = (1-alpha(N[h-1,amax]))*Qt[h-1,amax] + alpha(N[h-1,amax])*(r + gamma*max(Qt[h_1-1]))\n",
    "            \n",
    "            h = h_1\n",
    "            \n",
    "            rew = np.append(rew,r)\n",
    "            \n",
    "        rews = np.append(rews,np.sum(rew))\n",
    "        \n",
    "        optimal_policy = np.concatenate((optimal_policy,np.transpose([np.argmax(Qt,1)])),1)\n",
    "           \n",
    "#     np.set_printoptions(suppress=True)\n",
    "    return Qt,optimal_policy,rews\n",
    "    \n",
    "    "
   ]
  },
  {
   "cell_type": "code",
   "execution_count": 147,
   "metadata": {
    "collapsed": false
   },
   "outputs": [
    {
     "name": "stderr",
     "output_type": "stream",
     "text": [
      "C:\\Anaconda3\\lib\\site-packages\\ipykernel\\__main__.py:31: VisibleDeprecationWarning: using a boolean instead of an integer will result in an error in the future\n",
      "C:\\Anaconda3\\lib\\site-packages\\ipykernel\\__main__.py:33: VisibleDeprecationWarning: using a boolean instead of an integer will result in an error in the future\n"
     ]
    },
    {
     "data": {
      "text/plain": [
       "array([ 0.,  0.,  1.,  1.,  1.,  1.,  1.,  1.,  1.,  1.])"
      ]
     },
     "execution_count": 147,
     "metadata": {},
     "output_type": "execute_result"
    }
   ],
   "source": [
    "QLearning(1000,100,10,.05)[1][:,-1]"
   ]
  },
  {
   "cell_type": "code",
   "execution_count": 143,
   "metadata": {
    "collapsed": false
   },
   "outputs": [
    {
     "data": {
      "text/plain": [
       "array([[  8.95,   8.52],\n",
       "       [  9.65,   9.52],\n",
       "       [ 10.45,  10.52],\n",
       "       [ 11.31,  11.52],\n",
       "       [ 12.17,  12.52],\n",
       "       [ 13.03,  13.52],\n",
       "       [ 13.84,  14.52],\n",
       "       [ 14.61,  15.52],\n",
       "       [ 15.25,  16.52],\n",
       "       [ 15.68,  17.52]])"
      ]
     },
     "execution_count": 143,
     "metadata": {},
     "output_type": "execute_result"
    }
   ],
   "source": [
    "Qopt = np.round([[Q(x,a,Vet) for a in range(2)] for x in range(1,hmax+1)],2)\n",
    "Qopt"
   ]
  },
  {
   "cell_type": "code",
   "execution_count": 148,
   "metadata": {
    "collapsed": false
   },
   "outputs": [
    {
     "name": "stderr",
     "output_type": "stream",
     "text": [
      "C:\\Anaconda3\\lib\\site-packages\\ipykernel\\__main__.py:31: VisibleDeprecationWarning: using a boolean instead of an integer will result in an error in the future\n",
      "C:\\Anaconda3\\lib\\site-packages\\ipykernel\\__main__.py:33: VisibleDeprecationWarning: using a boolean instead of an integer will result in an error in the future\n",
      "C:\\Anaconda3\\lib\\site-packages\\ipykernel\\__main__.py:4: VisibleDeprecationWarning: using a non-integer number instead of an integer will result in an error in the future\n"
     ]
    },
    {
     "name": "stdout",
     "output_type": "stream",
     "text": [
      "0\n",
      "10\n",
      "20\n",
      "30\n",
      "40\n"
     ]
    },
    {
     "data": {
      "image/png": "[encoded data removed]",
      "text/plain": [
       "<matplotlib.figure.Figure at 0x24080f83208>"
      ]
     },
     "metadata": {},
     "output_type": "display_data"
    }
   ],
   "source": [
    "mpl.figure(figsize=(20,10))\n",
    "mpl.title(\"Q-Learning\")\n",
    "values = np.empty([0])\n",
    "Qvalues = QLearning(100,1000,1,.05)[1]\n",
    "for k in range(50):\n",
    "    values = np.append(values,max(abs(np.array(Vet)-BellmanVf(100,Qvalues[:,k]))))\n",
    "    if k%10 == 0:\n",
    "        print(k)\n",
    "mpl.plot(values, 'b', linewidth = 2)\n",
    "mpl.show()"
   ]
  },
  {
   "cell_type": "code",
   "execution_count": 158,
   "metadata": {
    "collapsed": false
   },
   "outputs": [
    {
     "name": "stderr",
     "output_type": "stream",
     "text": [
      "C:\\Anaconda3\\lib\\site-packages\\ipykernel\\__main__.py:31: VisibleDeprecationWarning: using a boolean instead of an integer will result in an error in the future\n",
      "C:\\Anaconda3\\lib\\site-packages\\ipykernel\\__main__.py:33: VisibleDeprecationWarning: using a boolean instead of an integer will result in an error in the future\n"
     ]
    },
    {
     "data": {
      "image/png": "[encoded data removed]",
      "text/plain": [
       "<matplotlib.figure.Figure at 0x24082bd24e0>"
      ]
     },
     "metadata": {},
     "output_type": "display_data"
    }
   ],
   "source": [
    "mpl.figure(figsize=(20,10))\n",
    "mpl.title(\"Q-Learning Cumulated Reward\")\n",
    "Qvalues = QLearning(100,1000,1,.05)[2]\n",
    "mpl.plot(Qvalues, 'b', linewidth = 2)\n",
    "mpl.plot(np.cumsum(Qvalues)/np.array(range(1,len(Qvalues)+1)), 'r', linewidth = 2)\n",
    "mpl.show()"
   ]
  },
  {
   "cell_type": "code",
   "execution_count": null,
   "metadata": {
    "collapsed": false
   },
   "outputs": [],
   "source": []
  },
  {
   "cell_type": "code",
   "execution_count": null,
   "metadata": {
    "collapsed": false
   },
   "outputs": [],
   "source": []
  },
  {
   "cell_type": "code",
   "execution_count": null,
   "metadata": {
    "collapsed": false
   },
   "outputs": [],
   "source": []
  },
  {
   "cell_type": "code",
   "execution_count": null,
   "metadata": {
    "collapsed": true
   },
   "outputs": [],
   "source": []
  }
 ],
 "metadata": {
  "anaconda-cloud": {},
  "kernelspec": {
   "display_name": "Python [Root]",
   "language": "python",
   "name": "Python [Root]"
  },
  "language_info": {
   "codemirror_mode": {
    "name": "ipython",
    "version": 3
   },
   "file_extension": ".py",
   "mimetype": "text/x-python",
   "name": "python",
   "nbconvert_exporter": "python",
   "pygments_lexer": "ipython3",
   "version": "3.5.2"
  }
 },
 "nbformat": 4,
 "nbformat_minor": 0
}
